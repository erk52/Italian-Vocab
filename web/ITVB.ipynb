{
 "cells": [
  {
   "cell_type": "code",
   "execution_count": 1,
   "metadata": {
    "collapsed": true
   },
   "outputs": [],
   "source": [
    "from bs4 import BeautifulSoup\n",
    "import urllib.request\n",
    "import pandas as pd"
   ]
  },
  {
   "cell_type": "code",
   "execution_count": 2,
   "metadata": {
    "collapsed": true
   },
   "outputs": [],
   "source": [
    "def alt_conjugate(infinitive):\n",
    "    url = 'http://verbmaps.com/en/verb/it/' + infinitive\n",
    "    with urllib.request.urlopen(url) as response:\n",
    "        html = response.read()\n",
    "    soup = BeautifulSoup(html,'lxml')\n",
    "    \n",
    "    raw = soup.get_text()\n",
    "    \n",
    "    a = raw.find('present indicative endings')\n",
    "    if a == -1:\n",
    "        a = raw.find('irregular')\n",
    "    present_indicative = raw[a:].split()[3:9]\n",
    "    \n",
    "    a = raw.find('Imperfect Indicative')\n",
    "    imperfect_indicative = raw[a:].split()[7:13]\n",
    "    \n",
    "    a = raw.find('Perfect Indicative')\n",
    "    tog = raw[a:].split()[9:21]\n",
    "    simple_past = [' '.join(tog[i:i+2]) for i in range(0,len(tog),2)]\n",
    "    \n",
    "    a = raw.find('Add preterite')\n",
    "    abs_past = raw[a:].split()[3:9]\n",
    "    \n",
    "    a = raw.find('Future')\n",
    "    future = raw[a:].split()[5:11]\n",
    "    \n",
    "    a = raw.find('Add present subjunctive')\n",
    "    subj = raw[a:].split()[4:10]\n",
    "    \n",
    "    a = raw.find('Imperfect Subjunctive')\n",
    "    past_subj = raw[a:].split()[7:13]\n",
    "    \n",
    "    a = raw.find('Conditional')\n",
    "    cond = raw[a:].split()[5:11]\n",
    "    \n",
    "    definition = ''\n",
    "    \n",
    "    return [definition,present_indicative,simple_past,imperfect_indicative, \n",
    "            abs_past,future,subj,past_subj,cond]"
   ]
  },
  {
   "cell_type": "code",
   "execution_count": 3,
   "metadata": {
    "collapsed": true
   },
   "outputs": [],
   "source": [
    "def genTable(inf):\n",
    "    pro = ['io', 'noi', 'tu', 'voi', 'lui/lei', 'loro']\n",
    "    tense = ['Present Indicative','Passato Prossimo', 'Imperfetto', 'Passato Remoto', 'Futuro',\n",
    "        'Present Subjunctive', 'Imperfect Subjunctive','Conditional']\n",
    "    \n",
    "    longt = []\n",
    "    longp =[]\n",
    "    for t in tense:\n",
    "        longp += pro\n",
    "        longt += [t for i in range(len(pro))]\n",
    "    arrays = [longt, longp]\n",
    "\n",
    "    v = alt_conjugate(inf)\n",
    "    dat = []\n",
    "    for con in v[1:]:\n",
    "        dat += con\n",
    "\n",
    "    table = pd.DataFrame(index=arrays,data=dat, columns=[inf]).T\n",
    "    #table['Infinitive'] = inf\n",
    "    #table['Definition'] = v[0]\n",
    "    \n",
    "    return table"
   ]
  },
  {
   "cell_type": "code",
   "execution_count": 4,
   "metadata": {
    "collapsed": true
   },
   "outputs": [],
   "source": [
    "def generateDatabase(verbs):\n",
    "             \n",
    "    MasterDF = pd.DataFrame()\n",
    "    for v in set(verbs):\n",
    "        try:\n",
    "            temp = genTable(v)\n",
    "            MasterDF = pd.concat([MasterDF,temp])\n",
    "        except:\n",
    "            print('Problem with '+v)\n",
    "            continue\n",
    "    return MasterDF"
   ]
  },
  {
   "cell_type": "code",
   "execution_count": 5,
   "metadata": {
    "collapsed": true
   },
   "outputs": [],
   "source": [
    "common_verbs = ['fare', 'mangiare', 'essere', 'avere','dormire', 'parlare', 'cercare', 'mettere', 'tenere','andare',\n",
    "             'potere', 'volere', 'venire', 'dovere', 'dare', 'stare', 'dire', 'sapere', 'vedere', 'prendere', 'uscire',\n",
    "             'finire', 'piacere', 'capire', 'scrivere', 'leggere', 'amare', 'conoscere', 'senitre', 'chiedere', 'studiare',\n",
    "             'trovare', 'lavorare', 'giocare', 'aprire', 'comprare', 'guardare', 'salire', 'pensare', 'tornare', 'riuscire']"
   ]
  },
  {
   "cell_type": "code",
   "execution_count": 34,
   "metadata": {
    "collapsed": false
   },
   "outputs": [],
   "source": [
    "def json_ify(word):\n",
    "    entry = DB.loc[word]\n",
    "    newstring = '\"'+word + '\": {'\n",
    "    for tense in ['Conditional', 'Futuro', 'Imperfect Subjunctive', 'Imperfetto', 'Passato Prossimo', 'Passato Remoto',\n",
    "                  'Present Indicative', 'Present Subjunctive']:\n",
    "        newstring += \"'\"+tense+\"':{\"\n",
    "        for pronoun in ['io', 'loro', 'lui/lei', 'noi', 'tu', 'voi']:\n",
    "            newstring += \"'\"+pronoun+\"': '\"+ entry[tense][pronoun] + \"',\"\n",
    "        newstring += '},'\n",
    "    newstring +='}'\n",
    "    return newstring"
   ]
  },
  {
   "cell_type": "code",
   "execution_count": 32,
   "metadata": {
    "collapsed": true
   },
   "outputs": [],
   "source": [
    "VLIST = []\n",
    "for PG in range(1,11):\n",
    "    url = 'http://www.italian-verbs.com/italian-verbs/italian-verbs-top.php?pg=' + str(PG)\n",
    "    with urllib.request.urlopen(url) as response:\n",
    "        html = response.read()\n",
    "    soup = BeautifulSoup(html,'lxml')\n",
    "\n",
    "    for tag in soup.find_all('a'):\n",
    "        if \"verbo=\" in tag.attrs['href']:\n",
    "            VLIST.append(tag.string)"
   ]
  },
  {
   "cell_type": "code",
   "execution_count": 37,
   "metadata": {
    "collapsed": false
   },
   "outputs": [
    {
     "name": "stdout",
     "output_type": "stream",
     "text": [
      "Problem with vadare\n",
      "Problem with participare\n",
      "Problem with accorgere\n",
      "Problem with construire\n",
      "Problem with bevere\n",
      "Problem with sonare\n",
      "Problem with ponere\n",
      "Problem with facere\n",
      "Problem with spengere\n",
      "Problem with scorreggiare\n",
      "Problem with dicere\n",
      "Problem with caminare\n",
      "Problem with godere\n",
      "Problem with ire\n",
      "Problem with escire\n",
      "Problem with cacare\n",
      "Problem with addire\n",
      "Problem with riempire\n",
      "Problem with proponere\n"
     ]
    },
    {
     "data": {
      "text/plain": [
       "545945"
      ]
     },
     "execution_count": 37,
     "metadata": {},
     "output_type": "execute_result"
    }
   ],
   "source": [
    "DB = generateDatabase(VLIST)\n",
    "\n",
    "total_json = \"{\"\n",
    "for words in DB.index:\n",
    "    total_json += json_ify(words) + ','\n",
    "total_json += \"}\"\n",
    "\n",
    "f = open(r'C:\\Users\\ekish\\Documents\\web\\verbs2.txt', 'w')\n",
    "f.write('var VERB_DB = ' + total_json)"
   ]
  },
  {
   "cell_type": "code",
   "execution_count": 38,
   "metadata": {
    "collapsed": false
   },
   "outputs": [],
   "source": [
    "f.close()"
   ]
  },
  {
   "cell_type": "code",
   "execution_count": 24,
   "metadata": {
    "collapsed": false
   },
   "outputs": [
    {
     "data": {
      "text/plain": [
       "'Dissionari piemontèis'"
      ]
     },
     "execution_count": 24,
     "metadata": {},
     "output_type": "execute_result"
    }
   ],
   "source": [
    "tag.string"
   ]
  },
  {
   "cell_type": "code",
   "execution_count": 26,
   "metadata": {
    "collapsed": false
   },
   "outputs": [
    {
     "data": {
      "text/plain": [
       "True"
      ]
     },
     "execution_count": 26,
     "metadata": {},
     "output_type": "execute_result"
    }
   ],
   "source": [
    "tag.has_attr('href')"
   ]
  },
  {
   "cell_type": "code",
   "execution_count": 30,
   "metadata": {
    "collapsed": false
   },
   "outputs": [
    {
     "data": {
      "text/plain": [
       "'http://www.piemonteis.com'"
      ]
     },
     "execution_count": 30,
     "metadata": {},
     "output_type": "execute_result"
    }
   ],
   "source": []
  },
  {
   "cell_type": "code",
   "execution_count": null,
   "metadata": {
    "collapsed": true
   },
   "outputs": [],
   "source": []
  }
 ],
 "metadata": {
  "kernelspec": {
   "display_name": "Python 3",
   "language": "python",
   "name": "python3"
  },
  "language_info": {
   "codemirror_mode": {
    "name": "ipython",
    "version": 3
   },
   "file_extension": ".py",
   "mimetype": "text/x-python",
   "name": "python",
   "nbconvert_exporter": "python",
   "pygments_lexer": "ipython3",
   "version": "3.4.4"
  }
 },
 "nbformat": 4,
 "nbformat_minor": 0
}
